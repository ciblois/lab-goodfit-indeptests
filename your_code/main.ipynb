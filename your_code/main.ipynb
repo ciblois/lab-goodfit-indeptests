{
 "cells": [
  {
   "cell_type": "code",
   "execution_count": 48,
   "metadata": {},
   "outputs": [],
   "source": [
    "import pandas as pd\n",
    "import numpy as np\n",
    "import scipy.stats as st"
   ]
  },
  {
   "cell_type": "markdown",
   "metadata": {},
   "source": [
    "## Question 1\n",
    "The following table indicates the number of 6-point scores in an American rugby match in the 1979 season.\n",
    "\n",
    "![](table1.png)\n",
    "\n",
    "Based on these results, we create a Poisson distribution with the sample mean parameter  = 2.435. Is there any reason to believe that at a .05 level the number of scores is a Poisson variable?"
   ]
  },
  {
   "cell_type": "code",
   "execution_count": 49,
   "metadata": {},
   "outputs": [
    {
     "output_type": "stream",
     "name": "stdout",
     "text": [
      "P-Value:5.526588649191276 T-Statistic:0.5959787428784398\n"
     ]
    }
   ],
   "source": [
    "from scipy.stats import poisson\n",
    "\n",
    "n=448\n",
    "f_obs = [35,99,104,110,62,25,10,3]\n",
    "mu=2.435\n",
    "poisson_dist=poisson(mu)\n",
    "f_exc = [poisson_dist.pmf(i)*n for i in range(8)]\n",
    "f_exc\n",
    "\n",
    "pValue,tStat = st.chisquare(f_obs, f_exc)\n",
    "print(\"P-Value:{0} T-Statistic:{1}\".format(pValue,tStat))"
   ]
  },
  {
   "cell_type": "code",
   "execution_count": 50,
   "metadata": {},
   "outputs": [],
   "source": [
    "# we can't reject the null hypothesis. The number of scores is a Poisson variable."
   ]
  },
  {
   "cell_type": "markdown",
   "metadata": {},
   "source": [
    "## Question 2\n",
    "Let's analyze a discrete distribution. To analyze the number of defective items in a factory in the city of Medellín, we took a random sample of n = 60 articles and observed the number of defectives in the following table:\n",
    "\n",
    "![](table2.png)\n",
    "\n",
    "A poissón distribution was proposed since it is defined for x = 0,1,2,3, .... using the following model:\n",
    "\n",
    "![](image1.png)\n",
    "\n",
    "Does the distribution of defective items follow this distribution?"
   ]
  },
  {
   "cell_type": "code",
   "execution_count": 51,
   "metadata": {},
   "outputs": [
    {
     "output_type": "stream",
     "name": "stdout",
     "text": [
      "P-Value:6.3034965141828545 T-Statistic:0.09774272956839174\n"
     ]
    }
   ],
   "source": [
    "n = 60\n",
    "items = [0,1,3,4]\n",
    "obs = [32,15,9,4]\n",
    "\n",
    "# in this we have to calculate lambda (igual ao número esperado de ocorrências que ocorrem num dado intervalo de tempo)\n",
    "lam = sum([i[0]*i[1] for i in list(zip(items,obs))])/sum(obs)\n",
    "\n",
    "poisson_dist=poisson(lam)\n",
    "f_exc = [poisson_dist.pmf(i)*n for i in range(4)]\n",
    "\n",
    "pValue,tStat = st.chisquare(obs, f_exc)\n",
    "print(\"P-Value:{0} T-Statistic:{1}\".format(pValue,tStat))"
   ]
  },
  {
   "cell_type": "code",
   "execution_count": 52,
   "metadata": {},
   "outputs": [],
   "source": [
    "# p-value is greater than 0.05 and we can't reject the null hypothesis. So yes, the distribution of defective items follow this distribution."
   ]
  },
  {
   "cell_type": "markdown",
   "metadata": {},
   "source": [
    "## Question 3\n",
    "A quality control engineer takes a sample of 10 tires that come out of an assembly line, and would like to verify on the basis of the data that follows, if the number of tires with defects observed over 200 days, if it is true that 5% of all tires have defects (that is, if the sample comes from a binomial population with n = 10 and p = 0.05). \n",
    "\n",
    "![](table3.png)\n"
   ]
  },
  {
   "cell_type": "code",
   "execution_count": 56,
   "metadata": {},
   "outputs": [
    {
     "output_type": "stream",
     "name": "stdout",
     "text": [
      "P-Value:6.730152995610064 T-Statistic:0.034559372300758\n"
     ]
    }
   ],
   "source": [
    "from scipy.stats import binom\n",
    "\n",
    "n = 10\n",
    "p = 0.05\n",
    "\n",
    "obs_tires = [138,53,9]\n",
    "binomial_dist = binom(n,p)\n",
    "f_exp = [binomial_dist.pmf(i)*200 for i in range(3)]\n",
    "\n",
    "pValue,tStat = st.chisquare(obs_tires, f_exp)\n",
    "print(\"P-Value:{0} T-Statistic:{1}\".format(pValue,tStat))"
   ]
  },
  {
   "cell_type": "code",
   "execution_count": 58,
   "metadata": {},
   "outputs": [],
   "source": [
    "# we reject the null hypothesis, the sample doesn't comes from a binomial population with n = 10 and p = 0.05."
   ]
  },
  {
   "cell_type": "markdown",
   "metadata": {},
   "source": [
    "## Question 4\n",
    "A researcher gathers information about the patterns of Physical Activity of children in the fifth grade of primary school of a public school. He defines three categories of physical activity (Low, Medium, High). He also inquires about the regular consumption of sugary drinks at school, and defines two categories (Yes = consumed, No = not consumed). We would like to evaluate if there is an association between patterns of physical activity and the consumption of sugary drinks for the children of this school, at a level of 5% significance. The results are in the following table: \n",
    "\n",
    "![](table4.png)"
   ]
  },
  {
   "cell_type": "code",
   "execution_count": null,
   "metadata": {},
   "outputs": [],
   "source": [
    "chi2, p, dof, ex = st.chi2_contingency(table)"
   ]
  },
  {
   "cell_type": "code",
   "execution_count": 62,
   "metadata": {},
   "outputs": [
    {
     "output_type": "stream",
     "name": "stdout",
     "text": [
      "The test statistic is 10.712198008709638 \nThe p-value of the test is 0.004719280137040844 \nDegrees of freedom = 2 \nThe expected frequencies (array), based on the marginal sums of the table are [[24.08421053 19.70526316  8.21052632]\n [19.91578947 16.29473684  6.78947368]]\n"
     ]
    }
   ],
   "source": [
    "yes = [32,14,6]\n",
    "no = [12,22,9]\n",
    "\n",
    "table = np.array([yes,no])\n",
    "\n",
    "chi2, p, dof, ex = st.chi2_contingency(table)\n",
    "print('The test statistic is {0} \\nThe p-value of the test is {1} \\nDegrees of freedom = {2} \\nThe expected frequencies (array), based on the marginal sums of the table are {3}'.format(chi2,p,dof,ex))"
   ]
  },
  {
   "cell_type": "code",
   "execution_count": null,
   "metadata": {},
   "outputs": [],
   "source": [
    "# There isn't an association between patterns of physical activity and the consumption of sugary drinks for the children of this school because p-value is less than 0.05."
   ]
  }
 ],
 "metadata": {
  "kernelspec": {
   "display_name": "Python 3",
   "language": "python",
   "name": "python3"
  },
  "language_info": {
   "codemirror_mode": {
    "name": "ipython",
    "version": 3
   },
   "file_extension": ".py",
   "mimetype": "text/x-python",
   "name": "python",
   "nbconvert_exporter": "python",
   "pygments_lexer": "ipython3",
   "version": "3.8.3-final"
  }
 },
 "nbformat": 4,
 "nbformat_minor": 2
}